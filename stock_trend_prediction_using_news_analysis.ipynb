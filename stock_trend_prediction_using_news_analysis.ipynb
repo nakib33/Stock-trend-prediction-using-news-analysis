{
  "cells": [
    {
      "cell_type": "code",
      "execution_count": null,
      "metadata": {
        "colab": {
          "base_uri": "https://localhost:8080/"
        },
        "id": "Hds5HEoSmTpZ",
        "outputId": "54107118-0815-4216-bf1c-6cd6dbe540c2"
      },
      "outputs": [
        {
          "name": "stdout",
          "output_type": "stream",
          "text": [
            "Requirement already satisfied: nltk in /usr/local/lib/python3.10/dist-packages (3.9.1)\n",
            "Requirement already satisfied: pandas in /usr/local/lib/python3.10/dist-packages (2.2.2)\n",
            "Requirement already satisfied: click in /usr/local/lib/python3.10/dist-packages (from nltk) (8.1.7)\n",
            "Requirement already satisfied: joblib in /usr/local/lib/python3.10/dist-packages (from nltk) (1.4.2)\n",
            "Requirement already satisfied: regex>=2021.8.3 in /usr/local/lib/python3.10/dist-packages (from nltk) (2024.9.11)\n",
            "Requirement already satisfied: tqdm in /usr/local/lib/python3.10/dist-packages (from nltk) (4.66.6)\n",
            "Requirement already satisfied: numpy>=1.22.4 in /usr/local/lib/python3.10/dist-packages (from pandas) (1.26.4)\n",
            "Requirement already satisfied: python-dateutil>=2.8.2 in /usr/local/lib/python3.10/dist-packages (from pandas) (2.8.2)\n",
            "Requirement already satisfied: pytz>=2020.1 in /usr/local/lib/python3.10/dist-packages (from pandas) (2024.2)\n",
            "Requirement already satisfied: tzdata>=2022.7 in /usr/local/lib/python3.10/dist-packages (from pandas) (2024.2)\n",
            "Requirement already satisfied: six>=1.5 in /usr/local/lib/python3.10/dist-packages (from python-dateutil>=2.8.2->pandas) (1.16.0)\n"
          ]
        }
      ],
      "source": [
        "!pip install nltk pandas"
      ]
    },
    {
      "cell_type": "code",
      "execution_count": null,
      "metadata": {
        "id": "Stt6yKM2mZlY"
      },
      "outputs": [],
      "source": [
        "import pandas as pd\n",
        "import nltk\n",
        "from nltk.corpus import stopwords\n",
        "from sklearn.model_selection import train_test_split\n",
        "from sklearn.naive_bayes import GaussianNB, MultinomialNB, BernoulliNB\n",
        "from sklearn.feature_extraction.text import CountVectorizer\n",
        "from sklearn.metrics import accuracy_score\n",
        "import re"
      ]
    },
    {
      "cell_type": "code",
      "execution_count": null,
      "metadata": {
        "colab": {
          "background_save": true,
          "base_uri": "https://localhost:8080/",
          "height": 73
        },
        "id": "wZo9bivOmb3e",
        "outputId": "73604baf-87fa-47b2-bc1f-527d8fa6dbf7"
      },
      "outputs": [
        {
          "data": {
            "text/html": [
              "\n",
              "     <input type=\"file\" id=\"files-5d1109bd-d550-4405-bcdf-6a410b64c75b\" name=\"files[]\" multiple disabled\n",
              "        style=\"border:none\" />\n",
              "     <output id=\"result-5d1109bd-d550-4405-bcdf-6a410b64c75b\">\n",
              "      Upload widget is only available when the cell has been executed in the\n",
              "      current browser session. Please rerun this cell to enable.\n",
              "      </output>\n",
              "      <script>// Copyright 2017 Google LLC\n",
              "//\n",
              "// Licensed under the Apache License, Version 2.0 (the \"License\");\n",
              "// you may not use this file except in compliance with the License.\n",
              "// You may obtain a copy of the License at\n",
              "//\n",
              "//      http://www.apache.org/licenses/LICENSE-2.0\n",
              "//\n",
              "// Unless required by applicable law or agreed to in writing, software\n",
              "// distributed under the License is distributed on an \"AS IS\" BASIS,\n",
              "// WITHOUT WARRANTIES OR CONDITIONS OF ANY KIND, either express or implied.\n",
              "// See the License for the specific language governing permissions and\n",
              "// limitations under the License.\n",
              "\n",
              "/**\n",
              " * @fileoverview Helpers for google.colab Python module.\n",
              " */\n",
              "(function(scope) {\n",
              "function span(text, styleAttributes = {}) {\n",
              "  const element = document.createElement('span');\n",
              "  element.textContent = text;\n",
              "  for (const key of Object.keys(styleAttributes)) {\n",
              "    element.style[key] = styleAttributes[key];\n",
              "  }\n",
              "  return element;\n",
              "}\n",
              "\n",
              "// Max number of bytes which will be uploaded at a time.\n",
              "const MAX_PAYLOAD_SIZE = 100 * 1024;\n",
              "\n",
              "function _uploadFiles(inputId, outputId) {\n",
              "  const steps = uploadFilesStep(inputId, outputId);\n",
              "  const outputElement = document.getElementById(outputId);\n",
              "  // Cache steps on the outputElement to make it available for the next call\n",
              "  // to uploadFilesContinue from Python.\n",
              "  outputElement.steps = steps;\n",
              "\n",
              "  return _uploadFilesContinue(outputId);\n",
              "}\n",
              "\n",
              "// This is roughly an async generator (not supported in the browser yet),\n",
              "// where there are multiple asynchronous steps and the Python side is going\n",
              "// to poll for completion of each step.\n",
              "// This uses a Promise to block the python side on completion of each step,\n",
              "// then passes the result of the previous step as the input to the next step.\n",
              "function _uploadFilesContinue(outputId) {\n",
              "  const outputElement = document.getElementById(outputId);\n",
              "  const steps = outputElement.steps;\n",
              "\n",
              "  const next = steps.next(outputElement.lastPromiseValue);\n",
              "  return Promise.resolve(next.value.promise).then((value) => {\n",
              "    // Cache the last promise value to make it available to the next\n",
              "    // step of the generator.\n",
              "    outputElement.lastPromiseValue = value;\n",
              "    return next.value.response;\n",
              "  });\n",
              "}\n",
              "\n",
              "/**\n",
              " * Generator function which is called between each async step of the upload\n",
              " * process.\n",
              " * @param {string} inputId Element ID of the input file picker element.\n",
              " * @param {string} outputId Element ID of the output display.\n",
              " * @return {!Iterable<!Object>} Iterable of next steps.\n",
              " */\n",
              "function* uploadFilesStep(inputId, outputId) {\n",
              "  const inputElement = document.getElementById(inputId);\n",
              "  inputElement.disabled = false;\n",
              "\n",
              "  const outputElement = document.getElementById(outputId);\n",
              "  outputElement.innerHTML = '';\n",
              "\n",
              "  const pickedPromise = new Promise((resolve) => {\n",
              "    inputElement.addEventListener('change', (e) => {\n",
              "      resolve(e.target.files);\n",
              "    });\n",
              "  });\n",
              "\n",
              "  const cancel = document.createElement('button');\n",
              "  inputElement.parentElement.appendChild(cancel);\n",
              "  cancel.textContent = 'Cancel upload';\n",
              "  const cancelPromise = new Promise((resolve) => {\n",
              "    cancel.onclick = () => {\n",
              "      resolve(null);\n",
              "    };\n",
              "  });\n",
              "\n",
              "  // Wait for the user to pick the files.\n",
              "  const files = yield {\n",
              "    promise: Promise.race([pickedPromise, cancelPromise]),\n",
              "    response: {\n",
              "      action: 'starting',\n",
              "    }\n",
              "  };\n",
              "\n",
              "  cancel.remove();\n",
              "\n",
              "  // Disable the input element since further picks are not allowed.\n",
              "  inputElement.disabled = true;\n",
              "\n",
              "  if (!files) {\n",
              "    return {\n",
              "      response: {\n",
              "        action: 'complete',\n",
              "      }\n",
              "    };\n",
              "  }\n",
              "\n",
              "  for (const file of files) {\n",
              "    const li = document.createElement('li');\n",
              "    li.append(span(file.name, {fontWeight: 'bold'}));\n",
              "    li.append(span(\n",
              "        `(${file.type || 'n/a'}) - ${file.size} bytes, ` +\n",
              "        `last modified: ${\n",
              "            file.lastModifiedDate ? file.lastModifiedDate.toLocaleDateString() :\n",
              "                                    'n/a'} - `));\n",
              "    const percent = span('0% done');\n",
              "    li.appendChild(percent);\n",
              "\n",
              "    outputElement.appendChild(li);\n",
              "\n",
              "    const fileDataPromise = new Promise((resolve) => {\n",
              "      const reader = new FileReader();\n",
              "      reader.onload = (e) => {\n",
              "        resolve(e.target.result);\n",
              "      };\n",
              "      reader.readAsArrayBuffer(file);\n",
              "    });\n",
              "    // Wait for the data to be ready.\n",
              "    let fileData = yield {\n",
              "      promise: fileDataPromise,\n",
              "      response: {\n",
              "        action: 'continue',\n",
              "      }\n",
              "    };\n",
              "\n",
              "    // Use a chunked sending to avoid message size limits. See b/62115660.\n",
              "    let position = 0;\n",
              "    do {\n",
              "      const length = Math.min(fileData.byteLength - position, MAX_PAYLOAD_SIZE);\n",
              "      const chunk = new Uint8Array(fileData, position, length);\n",
              "      position += length;\n",
              "\n",
              "      const base64 = btoa(String.fromCharCode.apply(null, chunk));\n",
              "      yield {\n",
              "        response: {\n",
              "          action: 'append',\n",
              "          file: file.name,\n",
              "          data: base64,\n",
              "        },\n",
              "      };\n",
              "\n",
              "      let percentDone = fileData.byteLength === 0 ?\n",
              "          100 :\n",
              "          Math.round((position / fileData.byteLength) * 100);\n",
              "      percent.textContent = `${percentDone}% done`;\n",
              "\n",
              "    } while (position < fileData.byteLength);\n",
              "  }\n",
              "\n",
              "  // All done.\n",
              "  yield {\n",
              "    response: {\n",
              "      action: 'complete',\n",
              "    }\n",
              "  };\n",
              "}\n",
              "\n",
              "scope.google = scope.google || {};\n",
              "scope.google.colab = scope.google.colab || {};\n",
              "scope.google.colab._files = {\n",
              "  _uploadFiles,\n",
              "  _uploadFilesContinue,\n",
              "};\n",
              "})(self);\n",
              "</script> "
            ],
            "text/plain": [
              "<IPython.core.display.HTML object>"
            ]
          },
          "metadata": {},
          "output_type": "display_data"
        },
        {
          "name": "stdout",
          "output_type": "stream",
          "text": [
            "Saving News.csv to News.csv\n",
            "Buffered data was truncated after reaching the output size limit."
          ]
        }
      ],
      "source": [
        "#load file\n",
        "from google.colab import files\n",
        "files.upload()"
      ]
    },
    {
      "cell_type": "code",
      "execution_count": null,
      "metadata": {
        "colab": {
          "background_save": true
        },
        "id": "KYVcvUxEmh82"
      },
      "outputs": [],
      "source": [
        "# Load your dataset\n",
        "# Replace 'your_dataset.csv' with the actual path to your CSV file\n",
        "df = pd.read_csv('News.csv', encoding='utf-8')\n",
        "df.head(10)"
      ]
    },
    {
      "cell_type": "code",
      "execution_count": null,
      "metadata": {
        "colab": {
          "background_save": true
        },
        "id": "KgalWr8vmnEu"
      },
      "outputs": [],
      "source": [
        "df.shape"
      ]
    },
    {
      "cell_type": "code",
      "execution_count": null,
      "metadata": {
        "colab": {
          "background_save": true
        },
        "id": "wZACAtv2mnmW"
      },
      "outputs": [],
      "source": [
        "df['combined'] = df['Title'] + ' ' + df['News']"
      ]
    },
    {
      "cell_type": "code",
      "execution_count": null,
      "metadata": {
        "colab": {
          "background_save": true
        },
        "id": "oT2KzVIYoCEw"
      },
      "outputs": [],
      "source": [
        "import nltk\n",
        "# Download the Bengali stop words\n",
        "nltk.download('stopwords')\n",
        "\n",
        "nltk.download('punkt')"
      ]
    },
    {
      "cell_type": "code",
      "execution_count": null,
      "metadata": {
        "colab": {
          "background_save": true
        },
        "id": "lQIBRDkOxf8h"
      },
      "outputs": [],
      "source": [
        "import pandas as pd\n",
        "import nltk\n",
        "import string\n",
        "from nltk.corpus import stopwords"
      ]
    },
    {
      "cell_type": "code",
      "execution_count": null,
      "metadata": {
        "colab": {
          "background_save": true
        },
        "id": "PMjwQnvmxkqQ"
      },
      "outputs": [],
      "source": [
        "#load file stopword\n",
        "from google.colab import files\n",
        "files.upload()"
      ]
    },
    {
      "cell_type": "code",
      "execution_count": null,
      "metadata": {
        "colab": {
          "background_save": true
        },
        "id": "mrhV4uSaxrSJ"
      },
      "outputs": [],
      "source": [
        "# Load your dataset\n",
        "# Replace 'your_dataset.csv' with the actual path to your CSV file\n",
        "nf = pd.read_csv('stopword.csv', encoding='utf-8')\n",
        "nf.head(20)"
      ]
    },
    {
      "cell_type": "code",
      "execution_count": null,
      "metadata": {
        "colab": {
          "background_save": true
        },
        "id": "eYzDSElVx0pn"
      },
      "outputs": [],
      "source": [
        "nf.shape"
      ]
    },
    {
      "cell_type": "code",
      "execution_count": null,
      "metadata": {
        "colab": {
          "background_save": true
        },
        "id": "5WTOkReJx6Yw"
      },
      "outputs": [],
      "source": [
        "stopwords_df = pd.read_csv('stopword.csv')\n",
        "bangla_stopwords = set(stopwords_df['stopword'].tolist())"
      ]
    },
    {
      "cell_type": "code",
      "execution_count": null,
      "metadata": {
        "colab": {
          "background_save": true
        },
        "id": "3rVd2l2qzkIK"
      },
      "outputs": [],
      "source": [
        "df = df.dropna()"
      ]
    },
    {
      "cell_type": "code",
      "execution_count": null,
      "metadata": {
        "colab": {
          "background_save": true
        },
        "id": "GVARcAFMnIJ3"
      },
      "outputs": [],
      "source": [
        "# Example: Preprocessing function (customize it as per your requirement)\n",
        "#bangla symborl\n",
        "def clean_sym(text):\n",
        "  pattern = r'[\\r\\n—?,;।!‘\"’\\.:\\(\\)\\[\\]…0-9<*>]'\n",
        "  text = re.sub(pattern,'', text)\n",
        "  return text\n",
        "# lower the cases\n",
        "def lower_cases(text):\n",
        " return text.lower()\n",
        "# remove special characters\n",
        "def remove_char(text):\n",
        " pattern = r'[^a-zA-z0–9\\s]'\n",
        " text = re.sub(pattern,'', text)\n",
        " return text\n",
        "#remove eng word\n",
        "def remove_eng(text):\n",
        "  pattern = r'[a-zA-z0–9\\s]'\n",
        "  text = re.sub(pattern,'', text)\n",
        "  return text\n",
        "def preprocess(text):\n",
        "    # Convert to lowercase\n",
        "    text = text.lower()\n",
        "\n",
        "    # Remove punctuation\n",
        "    text = text.translate(str.maketrans('', '', string.punctuation))\n",
        "\n",
        "    # Tokenize text\n",
        "    words = nltk.word_tokenize(text)\n",
        "\n",
        "    # Remove stopwords\n",
        "    words = [word for word in words if word not in bangla_stopwords]\n",
        "\n",
        "    # Join words back to text\n",
        "    text = ' '.join(words)\n",
        "\n",
        "    return text\n",
        "\n",
        "df['processed'] = df['combined'].apply(preprocess)\n",
        "df['processed'] = df['combined'].apply(clean_sym)\n",
        "df['processed'] = df['combined'].apply(remove_eng)\n"
      ]
    },
    {
      "cell_type": "code",
      "execution_count": null,
      "metadata": {
        "colab": {
          "background_save": true
        },
        "id": "EfWz4xBwnNtG"
      },
      "outputs": [],
      "source": [
        "vectorizer = CountVectorizer()\n",
        "X = vectorizer.fit_transform(df['processed'])\n",
        "y = df['Labeling']\n"
      ]
    },
    {
      "cell_type": "code",
      "execution_count": null,
      "metadata": {
        "colab": {
          "background_save": true
        },
        "id": "Wj8-h85gnOd2"
      },
      "outputs": [],
      "source": [
        "X_train, X_test, y_train, y_test = train_test_split(X, y, test_size=0.2, random_state=42)\n"
      ]
    },
    {
      "cell_type": "code",
      "execution_count": null,
      "metadata": {
        "colab": {
          "background_save": true
        },
        "id": "cyzrSmppnRAO"
      },
      "outputs": [],
      "source": [
        "gaussian_model = GaussianNB()\n",
        "multinomial_model = MultinomialNB()\n",
        "bernoulli_model = BernoulliNB()\n",
        "\n",
        "# Fit models\n",
        "gaussian_model.fit(X_train.toarray(), y_train)\n",
        "multinomial_model.fit(X_train, y_train)\n",
        "bernoulli_model.fit(X_train, y_train)\n"
      ]
    },
    {
      "cell_type": "code",
      "execution_count": null,
      "metadata": {
        "colab": {
          "background_save": true
        },
        "id": "r-bASmUJnTfu"
      },
      "outputs": [],
      "source": [
        "y_pred_gaussian = gaussian_model.predict(X_test.toarray())\n",
        "y_pred_multinomial = multinomial_model.predict(X_test)\n",
        "y_pred_bernoulli = bernoulli_model.predict(X_test)\n",
        "\n"
      ]
    },
    {
      "cell_type": "code",
      "execution_count": null,
      "metadata": {
        "colab": {
          "background_save": true
        },
        "id": "9XBwzD4G_DkN"
      },
      "outputs": [],
      "source": [
        "def predict_sentiment(title, news):\n",
        "    combined_text = title + ' ' + news\n",
        "    processed_text = preprocess(combined_text)\n",
        "\n",
        "    # Vectorizing the text (use the same vectorizer object you created during training)\n",
        "    vectorized_text = vectorizer.transform([processed_text])\n",
        "\n",
        "    # Predict using the trained models\n",
        "    pred_gaussian = gaussian_model.predict(vectorized_text.toarray())\n",
        "    pred_multinomial = multinomial_model.predict(vectorized_text)\n",
        "    pred_bernoulli = bernoulli_model.predict(vectorized_text)\n",
        "\n",
        "    return pred_gaussian[0], pred_multinomial[0], pred_bernoulli[0]"
      ]
    },
    {
      "cell_type": "code",
      "execution_count": null,
      "metadata": {
        "colab": {
          "background_save": true
        },
        "id": "j7j7IzSZ_Okr"
      },
      "outputs": [],
      "source": [
        "new_title = \"তৃনমূল নারী উদ্যোক্তা সোসাইটি (গ্রাসরুটস) এর উদ্যোগে সিলেটে বিজয় দিবস উপলক্ষে দিনব্যাপী কর্মসূচীতে এবি ব্যাংক পি এল সি নারী উদ্যোক্তাদের প্রশিক্ষন শেষে তাদের মাঝে ঋণ বিতরণ করে\"\n",
        "new_news = \"দেশের বেসরকারি খাতের দি সিটি ব্যাংক তাদের অনুমোদিত (অথরাইজড) মূলধন বাড়াচ্ছে। ব্যাংকটি তাদের বর্তমান অনুমোদিত মূলধন দেড় হাজার কোটি থেকে বাড়িয়ে দুই হাজার কোটি টাকা করার সিদ্ধান্ত নিয়েছে। গতকাল বুধবার শেয়ারবাজারে তালিকাভুক্ত ব্যাংকটি দেশের দুই স্টক এক্সচেঞ্জের মাধ্যমে বিনিয়োগকারীদের এ তথ্য জানিয়েছে। মূলধন বাড়ানোর বিষয়টি বেশ সময়সাপেক্ষ। এ জন্য নিয়ন্ত্রক সংস্থা ও শেয়ারধারীদের অনুমোদন নিতে হয়। সামনে যেহেতু আমাদের এজিএম রয়েছে, তাই আমরা আগেভাগে অনুমোদিত মূলধন বাড়ানোর কাজটি সম্পন্ন করার সিদ্ধান্ত নিয়েছি,মাসরুর আরেফিন, ব্যবস্থাপনা পরিচালক, দি সিটি ব্যাংক । দেশের প্রধান শেয়ারবাজার ঢাকা স্টক এক্সচেঞ্জের (ডিএসই) দেওয়া ঘোষণা অনুযায়ী, ব্যাংকটির অনুমোদিত মূলধন ৫০০ কোটি টাকা বাড়ানো হবে। বাংলাদেশ ব্যাংক ও শেয়ারধারীদের অনুমোদনের পর এ মূলধন বাড়ানোর সিদ্ধান্ত কার্যকর হবে।মূলধন বাড়ানোর সিদ্ধান্তের বিষয়ে জানতে চাইলে দি সিটি ব্যাংকের ব্যবস্থাপনা পরিচালক মাসরুর আরেফিন প্রথম আলোকে বলেন, ‘আমাদের ব্যাংকের পরিশোধিত মূলধন বাড়ছে। ইতিমধ্যে ব্যাংকের পরিশোধিত মূলধন ১ হাজার ২০০ কোটি টাকায় উন্নীত হয়েছে। সর্বশেষ ২০২২ সালের জন্য আমরা ২ শতাংশ বোনাস লভ্যাংশ ঘোষণা করেছি। বার্ষিক সাধারণ সভায় (এজিএম) অনুমোদনের পর এ লভ্যাংশ কার্যকর করা হলে তাতে পরিশোধিত মূলধন আরও ২৪ কোটি টাকা বেড়ে যাবে। এর বাইরে আমরা নতুন করে বিদেশি ইকুইটি (মূলধন) বিনিয়োগ আনারও চেষ্টা করছি। যদি বিদেশি বিনিয়োগ চলে আসে, তাতে পরিশোধিত মূলধন আরও বেড়ে যাবে। যেকোনো কোম্পানির বা ব্যাংকের পরিশোধিত মূলধন বলতে সেই মূলধনকে বোঝায়, যা ওই ব্যাংকের বা কোম্পানির শেয়ারধারীদের সরাসরি বিনিয়োগের অংশ। আর অনুমোদিত মূলধন বলতে বোঝায় ওই কোম্পানি বা ব্যাংকের যে পরিমাণ শেয়ার বিক্রির আইনগত অধিকার রয়েছে। মাসরুর আরেফিন আরও বলেন, ‘মূলধন বাড়ানোর বিষয়টি বেশ সময়সাপেক্ষ। এ জন্য নিয়ন্ত্রক সংস্থা ও শেয়ারধারীদের অনুমোদন নিতে হয়। সামনে যেহেতু আমাদের এজিএম রয়েছে, তাই আমরা আগেভাগে অনুমোদিত মূলধন বাড়ানোর কাজটি সম্পন্ন করার সিদ্ধান্ত নিয়েছি, যাতে ভবিষ্যতে পরিশোধিত মূলধন বাড়ানোর কাজটি সহজে করা যায়। ব্যাংক ও আর্থিক খাতের জন্য আন্তর্জাতিক রীতিনীতিতে এখন যেকোনো ব্যাংকের মূলধনকাঠামো শক্তিশালী করার ওপর জোর দেওয়া হচ্ছে। কারণ, যে ব্যাংকের মূলধন যত বেশি শক্তিশালী, সেই ব্যাংকের আর্থিক ভিত্তি তত মজবুত থাকে। যেকোনো কোম্পানির বা ব্যাংকের পরিশোধিত মূলধন বলতে সেই মূলধনকে বোঝায়, যা ওই ব্যাংকের বা কোম্পানির শেয়ারধারীদের সরাসরি বিনিয়োগের অংশ। আর অনুমোদিত মূলধন বলতে বোঝায় ওই কোম্পানি বা ব্যাংকের যে পরিমাণ শেয়ার বিক্রির আইনগত অধিকার রয়েছে। উদাহরণ হিসেবে ধরা যাক, কোনো ব্যাংকের পরিশোধিত মূলধন এক হাজার কোটি টাকা। আর অনুমোদিত মূলধন দেড় হাজার কোটি টাকা। তার মানে, ওই ব্যাংকে শেয়ারধারীদের মূলধন বিনিয়োগের পরিমাণ এক হাজার কোটি টাকা। আর দেড় হাজার কোটি টাকা অনুমোদিত মূলধন মানে ব্যাংকটি ভবিষ্যতে নতুন করে আরও ৫০০ কোটি টাকার সমমূল্যের শেয়ার ইস্যু করতে পারবে, যার অনুমোদন অনুমোদিত মূলধনের মাধ্যমে আগেই নেওয়া হয়েছে। ব্যাংক ও আর্থিক খাতের জন্য আন্তর্জাতিক রীতিনীতিতে এখন যেকোনো ব্যাংকের মূলধনকাঠামো শক্তিশালী করার ওপর জোর দেওয়া হচ্ছে। কারণ, যে ব্যাংকের মূলধন যত বেশি শক্তিশালী, সেই ব্যাংকের আর্থিক ভিত্তি তত মজবুত থাকে। এ বিষয়ে মাসরুর আরেফিন বলেন, ‘আমাদের উদ্যোক্তা ও শেয়ারধারীরা ব্যাংকের মূলধন বাড়ানোর বিষয়ে বেশ আগ্রহী। কারণ, তাঁরা বিশ্বাস করেন, আর্থিক ভিত্তি যত বেশি মজবুত হবে, ঋণ বিতরণসহ ব্যাংকের সামগ্রিক কার্যক্রম তত বেশি গতিশীল হবে। এ কারণে উদ্যোক্তা ও শেয়ারধারীরা কম মুনাফা বা লভ্যাংশ নিয়ে হলেও মূলধন শক্তিশালী করার প্রতি বেশি মনোযোগী।\"\n",
        "\n",
        "sentiment_gaussian, sentiment_multinomial, sentiment_bernoulli = predict_sentiment(new_title, new_news)\n",
        "\n",
        "print(f\"GaussianNB Sentiment: {sentiment_gaussian}\")\n",
        "print(f\"MultinomialNB Sentiment: {sentiment_multinomial}\")\n",
        "print(f\"BernoulliNB Sentiment: {sentiment_bernoulli}\")"
      ]
    }
  ],
  "metadata": {
    "colab": {
      "provenance": []
    },
    "kernelspec": {
      "display_name": "Python 3",
      "name": "python3"
    },
    "language_info": {
      "name": "python"
    }
  },
  "nbformat": 4,
  "nbformat_minor": 0
}